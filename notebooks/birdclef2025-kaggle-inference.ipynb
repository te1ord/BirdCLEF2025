{
 "cells": [
  {
   "cell_type": "code",
   "execution_count": 19,
   "metadata": {
    "execution": {
     "iopub.execute_input": "2025-04-22T13:07:43.309303Z",
     "iopub.status.busy": "2025-04-22T13:07:43.308913Z",
     "iopub.status.idle": "2025-04-22T13:07:43.329195Z",
     "shell.execute_reply": "2025-04-22T13:07:43.328021Z",
     "shell.execute_reply.started": "2025-04-22T13:07:43.309266Z"
    },
    "trusted": true
   },
   "outputs": [],
   "source": [
    "import os\n",
    "import sys"
   ]
  },
  {
   "cell_type": "code",
   "execution_count": null,
   "metadata": {},
   "outputs": [],
   "source": [
    "sys.path.append('/kaggle/input/birdclef2025-code/main_folder/')\n",
    "sys.path.append('/kaggle/input/birdclef2025-env/kaggle_env/')"
   ]
  },
  {
   "cell_type": "code",
   "execution_count": null,
   "metadata": {},
   "outputs": [],
   "source": [
    "from hydra import initialize, compose\n",
    "from omegaconf import OmegaConf"
   ]
  },
  {
   "cell_type": "markdown",
   "metadata": {},
   "source": [
    "# Config manager"
   ]
  },
  {
   "cell_type": "code",
   "execution_count": 20,
   "metadata": {
    "execution": {
     "iopub.execute_input": "2025-04-22T13:07:43.331545Z",
     "iopub.status.busy": "2025-04-22T13:07:43.331079Z",
     "iopub.status.idle": "2025-04-22T13:07:43.538558Z",
     "shell.execute_reply": "2025-04-22T13:07:43.537320Z",
     "shell.execute_reply.started": "2025-04-22T13:07:43.331517Z"
    },
    "trusted": true
   },
   "outputs": [
    {
     "name": "stderr",
     "output_type": "stream",
     "text": [
      "/tmp/ipykernel_31/3827301866.py:2: UserWarning: \n",
      "The version_base parameter is not specified.\n",
      "Please specify a compatability version level, or None.\n",
      "Will assume defaults for version 1.1\n",
      "  with initialize(config_path=CFG_PATH):\n"
     ]
    }
   ],
   "source": [
    "CFG_PATH = \"../input/birdclef2025-code/main_folder/src/config\"\n",
    "with initialize(config_path=CFG_PATH): \n",
    "    cfg = compose(config_name=\"config\")  \n",
    "\n",
    "# print(OmegaConf.to_container(cfg, resolve=False))"
   ]
  },
  {
   "cell_type": "code",
   "execution_count": 21,
   "metadata": {
    "execution": {
     "iopub.execute_input": "2025-04-22T13:07:43.540064Z",
     "iopub.status.busy": "2025-04-22T13:07:43.539728Z",
     "iopub.status.idle": "2025-04-22T13:07:43.546024Z",
     "shell.execute_reply": "2025-04-22T13:07:43.544851Z",
     "shell.execute_reply.started": "2025-04-22T13:07:43.540029Z"
    },
    "trusted": true
   },
   "outputs": [],
   "source": [
    "# paths\n",
    "cfg['data'][\"paths\"]['train_csv'] = \"/kaggle/input/birdclef2025-cv-split/cv_split.csv\"\n",
    "cfg['inference']['train_audio_path'] = \"/kaggle/input/birdclef-2025/train_audio\"\n",
    "cfg['inference']['test_soundscape_path'] =\"/kaggle/input/birdclef-2025/test_soundscapes\"\n",
    "\n",
    "cfg['inference']['batch_size'] = 2048"
   ]
  },
  {
   "cell_type": "code",
   "execution_count": 22,
   "metadata": {
    "execution": {
     "iopub.execute_input": "2025-04-22T13:07:43.548908Z",
     "iopub.status.busy": "2025-04-22T13:07:43.548462Z",
     "iopub.status.idle": "2025-04-22T13:07:43.572600Z",
     "shell.execute_reply": "2025-04-22T13:07:43.571539Z",
     "shell.execute_reply.started": "2025-04-22T13:07:43.548878Z"
    },
    "trusted": true
   },
   "outputs": [],
   "source": [
    "# checkpoint\n",
    "artifact_base_path = \"/kaggle/input/birdclef2025-models\"\n",
    "experiment = \"6qiemv31_efficientnet_b0_softlabels_ce_softmax_augmentations\"\n",
    "\n",
    "model = 'model.ckpt'\n",
    "train_cfg = 'config.yaml'\n",
    "\n",
    "cfg['inference']['checkpoint_path'] = os.path.join(artifact_base_path, experiment, model)\n"
   ]
  },
  {
   "cell_type": "code",
   "execution_count": 23,
   "metadata": {
    "execution": {
     "iopub.execute_input": "2025-04-22T13:07:43.574082Z",
     "iopub.status.busy": "2025-04-22T13:07:43.573746Z",
     "iopub.status.idle": "2025-04-22T13:07:43.595912Z",
     "shell.execute_reply": "2025-04-22T13:07:43.594816Z",
     "shell.execute_reply.started": "2025-04-22T13:07:43.574056Z"
    },
    "trusted": true
   },
   "outputs": [
    {
     "data": {
      "text/plain": [
       "'/kaggle/input/birdclef-2025/train_soundscapes'"
      ]
     },
     "execution_count": 23,
     "metadata": {},
     "output_type": "execute_result"
    }
   ],
   "source": [
    "# test on train soundscapes\n",
    "# cfg['inference']['test_soundscape_path'] =\"/kaggle/input/birdclef-2025/train_soundscapes\"\n",
    "# cfg['inference']['test_soundscape_path']"
   ]
  },
  {
   "cell_type": "markdown",
   "metadata": {},
   "source": [
    "# Inference"
   ]
  },
  {
   "cell_type": "code",
   "execution_count": 25,
   "metadata": {
    "execution": {
     "iopub.execute_input": "2025-04-22T13:12:55.518032Z",
     "iopub.status.busy": "2025-04-22T13:12:55.517610Z",
     "iopub.status.idle": "2025-04-22T13:12:55.522795Z",
     "shell.execute_reply": "2025-04-22T13:12:55.521613Z",
     "shell.execute_reply.started": "2025-04-22T13:12:55.518004Z"
    },
    "trusted": true
   },
   "outputs": [],
   "source": [
    "from src.scripts.inference import main\n",
    "main(cfg)"
   ]
  },
  {
   "cell_type": "code",
   "execution_count": null,
   "metadata": {
    "trusted": true
   },
   "outputs": [],
   "source": []
  }
 ],
 "metadata": {
  "kaggle": {
   "accelerator": "none",
   "dataSources": [
    {
     "databundleVersionId": 11361821,
     "sourceId": 91844,
     "sourceType": "competition"
    },
    {
     "datasetId": 7145286,
     "sourceId": 11406881,
     "sourceType": "datasetVersion"
    },
    {
     "datasetId": 7189316,
     "sourceId": 11471770,
     "sourceType": "datasetVersion"
    },
    {
     "datasetId": 7150925,
     "sourceId": 11514589,
     "sourceType": "datasetVersion"
    },
    {
     "datasetId": 7220960,
     "sourceId": 11514801,
     "sourceType": "datasetVersion"
    }
   ],
   "dockerImageVersionId": 31012,
   "isGpuEnabled": false,
   "isInternetEnabled": false,
   "language": "python",
   "sourceType": "notebook"
  },
  "kernelspec": {
   "display_name": "Python 3",
   "language": "python",
   "name": "python3"
  },
  "language_info": {
   "codemirror_mode": {
    "name": "ipython",
    "version": 3
   },
   "file_extension": ".py",
   "mimetype": "text/x-python",
   "name": "python",
   "nbconvert_exporter": "python",
   "pygments_lexer": "ipython3",
   "version": "3.11.11"
  }
 },
 "nbformat": 4,
 "nbformat_minor": 4
}
