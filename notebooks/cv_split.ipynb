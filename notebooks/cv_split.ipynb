{
 "cells": [
  {
   "cell_type": "code",
   "execution_count": 1,
   "id": "2e9b79e1",
   "metadata": {},
   "outputs": [],
   "source": [
    "import numpy as np\n",
    "import pandas as pd\n",
    "from sklearn.model_selection import StratifiedKFold\n",
    "\n",
    "import torchaudio\n",
    "\n",
    "from tqdm import tqdm\n",
    "tqdm.pandas()"
   ]
  },
  {
   "cell_type": "code",
   "execution_count": 2,
   "id": "f1f15d1d",
   "metadata": {},
   "outputs": [],
   "source": [
    "RANDOM_STATE = 42\n",
    "SHUFFLE = True\n",
    "\n",
    "DATA_PATH = \"../data\""
   ]
  },
  {
   "cell_type": "markdown",
   "id": "7f6f8963",
   "metadata": {},
   "source": [
    "# Data Preparation"
   ]
  },
  {
   "cell_type": "code",
   "execution_count": 3,
   "id": "5dabeb71",
   "metadata": {},
   "outputs": [],
   "source": [
    "train_df = pd.read_csv(DATA_PATH + \"/train.csv\")"
   ]
  },
  {
   "cell_type": "code",
   "execution_count": 4,
   "id": "f187f058",
   "metadata": {},
   "outputs": [
    {
     "data": {
      "text/html": [
       "<div>\n",
       "<style scoped>\n",
       "    .dataframe tbody tr th:only-of-type {\n",
       "        vertical-align: middle;\n",
       "    }\n",
       "\n",
       "    .dataframe tbody tr th {\n",
       "        vertical-align: top;\n",
       "    }\n",
       "\n",
       "    .dataframe thead th {\n",
       "        text-align: right;\n",
       "    }\n",
       "</style>\n",
       "<table border=\"1\" class=\"dataframe\">\n",
       "  <thead>\n",
       "    <tr style=\"text-align: right;\">\n",
       "      <th></th>\n",
       "      <th>primary_label</th>\n",
       "      <th>secondary_labels</th>\n",
       "      <th>type</th>\n",
       "      <th>filename</th>\n",
       "      <th>collection</th>\n",
       "      <th>rating</th>\n",
       "      <th>url</th>\n",
       "      <th>latitude</th>\n",
       "      <th>longitude</th>\n",
       "      <th>scientific_name</th>\n",
       "      <th>common_name</th>\n",
       "      <th>author</th>\n",
       "      <th>license</th>\n",
       "    </tr>\n",
       "  </thead>\n",
       "  <tbody>\n",
       "    <tr>\n",
       "      <th>0</th>\n",
       "      <td>1139490</td>\n",
       "      <td>['']</td>\n",
       "      <td>['']</td>\n",
       "      <td>1139490/CSA36385.ogg</td>\n",
       "      <td>CSA</td>\n",
       "      <td>0.0</td>\n",
       "      <td>http://colecciones.humboldt.org.co/rec/sonidos...</td>\n",
       "      <td>7.3206</td>\n",
       "      <td>-73.7128</td>\n",
       "      <td>Ragoniella pulchella</td>\n",
       "      <td>Ragoniella pulchella</td>\n",
       "      <td>Fabio A. Sarria-S</td>\n",
       "      <td>cc-by-nc-sa 4.0</td>\n",
       "    </tr>\n",
       "    <tr>\n",
       "      <th>1</th>\n",
       "      <td>1139490</td>\n",
       "      <td>['']</td>\n",
       "      <td>['']</td>\n",
       "      <td>1139490/CSA36389.ogg</td>\n",
       "      <td>CSA</td>\n",
       "      <td>0.0</td>\n",
       "      <td>http://colecciones.humboldt.org.co/rec/sonidos...</td>\n",
       "      <td>7.3206</td>\n",
       "      <td>-73.7128</td>\n",
       "      <td>Ragoniella pulchella</td>\n",
       "      <td>Ragoniella pulchella</td>\n",
       "      <td>Fabio A. Sarria-S</td>\n",
       "      <td>cc-by-nc-sa 4.0</td>\n",
       "    </tr>\n",
       "    <tr>\n",
       "      <th>2</th>\n",
       "      <td>1192948</td>\n",
       "      <td>['']</td>\n",
       "      <td>['']</td>\n",
       "      <td>1192948/CSA36358.ogg</td>\n",
       "      <td>CSA</td>\n",
       "      <td>0.0</td>\n",
       "      <td>http://colecciones.humboldt.org.co/rec/sonidos...</td>\n",
       "      <td>7.3791</td>\n",
       "      <td>-73.7313</td>\n",
       "      <td>Oxyprora surinamensis</td>\n",
       "      <td>Oxyprora surinamensis</td>\n",
       "      <td>Fabio A. Sarria-S</td>\n",
       "      <td>cc-by-nc-sa 4.0</td>\n",
       "    </tr>\n",
       "    <tr>\n",
       "      <th>3</th>\n",
       "      <td>1192948</td>\n",
       "      <td>['']</td>\n",
       "      <td>['']</td>\n",
       "      <td>1192948/CSA36366.ogg</td>\n",
       "      <td>CSA</td>\n",
       "      <td>0.0</td>\n",
       "      <td>http://colecciones.humboldt.org.co/rec/sonidos...</td>\n",
       "      <td>7.2800</td>\n",
       "      <td>-73.8582</td>\n",
       "      <td>Oxyprora surinamensis</td>\n",
       "      <td>Oxyprora surinamensis</td>\n",
       "      <td>Fabio A. Sarria-S</td>\n",
       "      <td>cc-by-nc-sa 4.0</td>\n",
       "    </tr>\n",
       "    <tr>\n",
       "      <th>4</th>\n",
       "      <td>1192948</td>\n",
       "      <td>['']</td>\n",
       "      <td>['']</td>\n",
       "      <td>1192948/CSA36373.ogg</td>\n",
       "      <td>CSA</td>\n",
       "      <td>0.0</td>\n",
       "      <td>http://colecciones.humboldt.org.co/rec/sonidos...</td>\n",
       "      <td>7.3791</td>\n",
       "      <td>-73.7313</td>\n",
       "      <td>Oxyprora surinamensis</td>\n",
       "      <td>Oxyprora surinamensis</td>\n",
       "      <td>Fabio A. Sarria-S</td>\n",
       "      <td>cc-by-nc-sa 4.0</td>\n",
       "    </tr>\n",
       "  </tbody>\n",
       "</table>\n",
       "</div>"
      ],
      "text/plain": [
       "  primary_label secondary_labels  type              filename collection  \\\n",
       "0       1139490             ['']  ['']  1139490/CSA36385.ogg        CSA   \n",
       "1       1139490             ['']  ['']  1139490/CSA36389.ogg        CSA   \n",
       "2       1192948             ['']  ['']  1192948/CSA36358.ogg        CSA   \n",
       "3       1192948             ['']  ['']  1192948/CSA36366.ogg        CSA   \n",
       "4       1192948             ['']  ['']  1192948/CSA36373.ogg        CSA   \n",
       "\n",
       "   rating                                                url  latitude  \\\n",
       "0     0.0  http://colecciones.humboldt.org.co/rec/sonidos...    7.3206   \n",
       "1     0.0  http://colecciones.humboldt.org.co/rec/sonidos...    7.3206   \n",
       "2     0.0  http://colecciones.humboldt.org.co/rec/sonidos...    7.3791   \n",
       "3     0.0  http://colecciones.humboldt.org.co/rec/sonidos...    7.2800   \n",
       "4     0.0  http://colecciones.humboldt.org.co/rec/sonidos...    7.3791   \n",
       "\n",
       "   longitude        scientific_name            common_name             author  \\\n",
       "0   -73.7128   Ragoniella pulchella   Ragoniella pulchella  Fabio A. Sarria-S   \n",
       "1   -73.7128   Ragoniella pulchella   Ragoniella pulchella  Fabio A. Sarria-S   \n",
       "2   -73.7313  Oxyprora surinamensis  Oxyprora surinamensis  Fabio A. Sarria-S   \n",
       "3   -73.8582  Oxyprora surinamensis  Oxyprora surinamensis  Fabio A. Sarria-S   \n",
       "4   -73.7313  Oxyprora surinamensis  Oxyprora surinamensis  Fabio A. Sarria-S   \n",
       "\n",
       "           license  \n",
       "0  cc-by-nc-sa 4.0  \n",
       "1  cc-by-nc-sa 4.0  \n",
       "2  cc-by-nc-sa 4.0  \n",
       "3  cc-by-nc-sa 4.0  \n",
       "4  cc-by-nc-sa 4.0  "
      ]
     },
     "execution_count": 4,
     "metadata": {},
     "output_type": "execute_result"
    }
   ],
   "source": [
    "train_df.head()"
   ]
  },
  {
   "cell_type": "markdown",
   "id": "a88e7afe",
   "metadata": {},
   "source": [
    "## Create duration column"
   ]
  },
  {
   "cell_type": "code",
   "execution_count": 5,
   "id": "8ff95943",
   "metadata": {},
   "outputs": [
    {
     "name": "stderr",
     "output_type": "stream",
     "text": [
      "100%|██████████| 28564/28564 [05:46<00:00, 82.33it/s]\n"
     ]
    }
   ],
   "source": [
    "def get_audio_duration(path):\n",
    "    metadata = torchaudio.info(path)\n",
    "    return metadata.num_frames\n",
    "    # return metadata.num_frames / metadata.sample_rate\n",
    "\n",
    "train_df['num_frames'] = train_df['filename'].progress_apply(lambda x: get_audio_duration(f\"{DATA_PATH}/train_audio/{x}\"))"
   ]
  },
  {
   "cell_type": "markdown",
   "id": "8c6e4715",
   "metadata": {},
   "source": [
    "## Check for semi-duplicates"
   ]
  },
  {
   "cell_type": "code",
   "execution_count": 6,
   "id": "33121d5d",
   "metadata": {},
   "outputs": [],
   "source": [
    "same_columns = ['primary_label', 'latitude', 'longitude', 'author', 'num_frames']\n",
    "diff_column = 'collection'"
   ]
  },
  {
   "cell_type": "code",
   "execution_count": 7,
   "id": "509b4c16",
   "metadata": {},
   "outputs": [],
   "source": [
    "def get_duplicate_rows_with_diff(df, same_columns, diff_column):\n",
    "    \"\"\"\n",
    "    Returns all rows from the DataFrame 'df' that share the same values in the columns specified in 'columns_check'\n",
    "    and have different values in 'diff_column'.\n",
    "    \"\"\"\n",
    "    grouped = df.groupby(same_columns)\n",
    "    filtered = grouped.filter(lambda x: x[diff_column].nunique() > 1)\n",
    "    \n",
    "    return filtered"
   ]
  },
  {
   "cell_type": "code",
   "execution_count": 8,
   "id": "3856aedc",
   "metadata": {},
   "outputs": [
    {
     "name": "stdout",
     "output_type": "stream",
     "text": [
      "(44, 14)\n"
     ]
    },
    {
     "data": {
      "text/html": [
       "<div>\n",
       "<style scoped>\n",
       "    .dataframe tbody tr th:only-of-type {\n",
       "        vertical-align: middle;\n",
       "    }\n",
       "\n",
       "    .dataframe tbody tr th {\n",
       "        vertical-align: top;\n",
       "    }\n",
       "\n",
       "    .dataframe thead th {\n",
       "        text-align: right;\n",
       "    }\n",
       "</style>\n",
       "<table border=\"1\" class=\"dataframe\">\n",
       "  <thead>\n",
       "    <tr style=\"text-align: right;\">\n",
       "      <th></th>\n",
       "      <th>primary_label</th>\n",
       "      <th>secondary_labels</th>\n",
       "      <th>type</th>\n",
       "      <th>filename</th>\n",
       "      <th>collection</th>\n",
       "      <th>rating</th>\n",
       "      <th>url</th>\n",
       "      <th>latitude</th>\n",
       "      <th>longitude</th>\n",
       "      <th>scientific_name</th>\n",
       "      <th>common_name</th>\n",
       "      <th>author</th>\n",
       "      <th>license</th>\n",
       "      <th>num_frames</th>\n",
       "    </tr>\n",
       "  </thead>\n",
       "  <tbody>\n",
       "    <tr>\n",
       "      <th>9</th>\n",
       "      <td>126247</td>\n",
       "      <td>['65448', '22976', '476538']</td>\n",
       "      <td>['advertisement call']</td>\n",
       "      <td>126247/XC941297.ogg</td>\n",
       "      <td>XC</td>\n",
       "      <td>3.5</td>\n",
       "      <td>https://xeno-canto.org/941297</td>\n",
       "      <td>9.0465</td>\n",
       "      <td>-79.3024</td>\n",
       "      <td>Leptodactylus insularum</td>\n",
       "      <td>Spotted Foam-nest Frog</td>\n",
       "      <td>Chris Harrison</td>\n",
       "      <td>cc-by-nc-sa 4.0</td>\n",
       "      <td>517007</td>\n",
       "    </tr>\n",
       "    <tr>\n",
       "      <th>10</th>\n",
       "      <td>126247</td>\n",
       "      <td>['']</td>\n",
       "      <td>['']</td>\n",
       "      <td>126247/iNat1109254.ogg</td>\n",
       "      <td>iNat</td>\n",
       "      <td>0.0</td>\n",
       "      <td>https://static.inaturalist.org/sounds/1109254.wav</td>\n",
       "      <td>9.0465</td>\n",
       "      <td>-79.3024</td>\n",
       "      <td>Leptodactylus insularum</td>\n",
       "      <td>Spotted Foam-nest Frog</td>\n",
       "      <td>Chris Harrison</td>\n",
       "      <td>cc-by-nc 4.0</td>\n",
       "      <td>517007</td>\n",
       "    </tr>\n",
       "    <tr>\n",
       "      <th>20</th>\n",
       "      <td>134933</td>\n",
       "      <td>['']</td>\n",
       "      <td>['advertisement call']</td>\n",
       "      <td>134933/XC941298.ogg</td>\n",
       "      <td>XC</td>\n",
       "      <td>4.0</td>\n",
       "      <td>https://xeno-canto.org/941298</td>\n",
       "      <td>8.6260</td>\n",
       "      <td>-80.1392</td>\n",
       "      <td>Espadarana prosoblepon</td>\n",
       "      <td>Emerald Glass Frog</td>\n",
       "      <td>Chris Harrison</td>\n",
       "      <td>cc-by-nc-sa 4.0</td>\n",
       "      <td>1544717</td>\n",
       "    </tr>\n",
       "    <tr>\n",
       "      <th>22</th>\n",
       "      <td>134933</td>\n",
       "      <td>['']</td>\n",
       "      <td>['']</td>\n",
       "      <td>134933/iNat1160199.ogg</td>\n",
       "      <td>iNat</td>\n",
       "      <td>0.0</td>\n",
       "      <td>https://static.inaturalist.org/sounds/1160199.wav</td>\n",
       "      <td>8.6260</td>\n",
       "      <td>-80.1392</td>\n",
       "      <td>Espadarana prosoblepon</td>\n",
       "      <td>Emerald Glass Frog</td>\n",
       "      <td>Chris Harrison</td>\n",
       "      <td>cc-by-nc 4.0</td>\n",
       "      <td>1544717</td>\n",
       "    </tr>\n",
       "    <tr>\n",
       "      <th>184</th>\n",
       "      <td>22973</td>\n",
       "      <td>['']</td>\n",
       "      <td>['advertisement call']</td>\n",
       "      <td>22973/XC892927.ogg</td>\n",
       "      <td>XC</td>\n",
       "      <td>5.0</td>\n",
       "      <td>https://xeno-canto.org/892927</td>\n",
       "      <td>11.1631</td>\n",
       "      <td>-60.8270</td>\n",
       "      <td>Leptodactylus fuscus</td>\n",
       "      <td>Whistling Grass Frog</td>\n",
       "      <td>Chris Harrison</td>\n",
       "      <td>cc-by-nc-sa 4.0</td>\n",
       "      <td>1191936</td>\n",
       "    </tr>\n",
       "  </tbody>\n",
       "</table>\n",
       "</div>"
      ],
      "text/plain": [
       "    primary_label              secondary_labels                    type  \\\n",
       "9          126247  ['65448', '22976', '476538']  ['advertisement call']   \n",
       "10         126247                          ['']                    ['']   \n",
       "20         134933                          ['']  ['advertisement call']   \n",
       "22         134933                          ['']                    ['']   \n",
       "184         22973                          ['']  ['advertisement call']   \n",
       "\n",
       "                   filename collection  rating  \\\n",
       "9       126247/XC941297.ogg         XC     3.5   \n",
       "10   126247/iNat1109254.ogg       iNat     0.0   \n",
       "20      134933/XC941298.ogg         XC     4.0   \n",
       "22   134933/iNat1160199.ogg       iNat     0.0   \n",
       "184      22973/XC892927.ogg         XC     5.0   \n",
       "\n",
       "                                                   url  latitude  longitude  \\\n",
       "9                        https://xeno-canto.org/941297    9.0465   -79.3024   \n",
       "10   https://static.inaturalist.org/sounds/1109254.wav    9.0465   -79.3024   \n",
       "20                       https://xeno-canto.org/941298    8.6260   -80.1392   \n",
       "22   https://static.inaturalist.org/sounds/1160199.wav    8.6260   -80.1392   \n",
       "184                      https://xeno-canto.org/892927   11.1631   -60.8270   \n",
       "\n",
       "             scientific_name             common_name          author  \\\n",
       "9    Leptodactylus insularum  Spotted Foam-nest Frog  Chris Harrison   \n",
       "10   Leptodactylus insularum  Spotted Foam-nest Frog  Chris Harrison   \n",
       "20    Espadarana prosoblepon      Emerald Glass Frog  Chris Harrison   \n",
       "22    Espadarana prosoblepon      Emerald Glass Frog  Chris Harrison   \n",
       "184     Leptodactylus fuscus    Whistling Grass Frog  Chris Harrison   \n",
       "\n",
       "             license  num_frames  \n",
       "9    cc-by-nc-sa 4.0      517007  \n",
       "10      cc-by-nc 4.0      517007  \n",
       "20   cc-by-nc-sa 4.0     1544717  \n",
       "22      cc-by-nc 4.0     1544717  \n",
       "184  cc-by-nc-sa 4.0     1191936  "
      ]
     },
     "execution_count": 8,
     "metadata": {},
     "output_type": "execute_result"
    }
   ],
   "source": [
    "filtered = get_duplicate_rows_with_diff(\n",
    "    df=train_df,\n",
    "    same_columns=same_columns, diff_column=diff_column\n",
    ")\n",
    "\n",
    "\n",
    "print(filtered.shape)\n",
    "filtered.head()"
   ]
  },
  {
   "cell_type": "code",
   "execution_count": 9,
   "id": "6ae2af7a",
   "metadata": {},
   "outputs": [
    {
     "data": {
      "text/plain": [
       "collection\n",
       "XC      22\n",
       "iNat    22\n",
       "Name: count, dtype: int64"
      ]
     },
     "execution_count": 9,
     "metadata": {},
     "output_type": "execute_result"
    }
   ],
   "source": [
    "filtered[diff_column].value_counts()"
   ]
  },
  {
   "cell_type": "markdown",
   "id": "14f49920",
   "metadata": {},
   "source": [
    "## Drop semi-duplicates"
   ]
  },
  {
   "cell_type": "code",
   "execution_count": 14,
   "id": "5bbea78d",
   "metadata": {},
   "outputs": [],
   "source": [
    "# drop iNat\n",
    "train_df_nod = train_df.drop(index=filtered[filtered['collection'] == 'iNat'].index).reset_index()"
   ]
  },
  {
   "cell_type": "code",
   "execution_count": 15,
   "id": "c8325847",
   "metadata": {},
   "outputs": [
    {
     "name": "stdout",
     "output_type": "stream",
     "text": [
      "(0, 15)\n"
     ]
    }
   ],
   "source": [
    "# recheck\n",
    "filtered_nod = get_duplicate_rows_with_diff(\n",
    "    df=train_df_nod,\n",
    "    same_columns=same_columns, diff_column=diff_column\n",
    ")\n",
    "\n",
    "\n",
    "print(filtered_nod.shape)"
   ]
  },
  {
   "cell_type": "markdown",
   "id": "087474a8",
   "metadata": {},
   "source": [
    "# Split"
   ]
  },
  {
   "cell_type": "code",
   "execution_count": 16,
   "id": "b931cb38",
   "metadata": {},
   "outputs": [
    {
     "name": "stderr",
     "output_type": "stream",
     "text": [
      "c:\\Projects\\AUDIO\\BirdCLEF2025\\.venv\\Lib\\site-packages\\sklearn\\model_selection\\_split.py:805: UserWarning: The least populated class in y has only 2 members, which is less than n_splits=5.\n",
      "  warnings.warn(\n"
     ]
    }
   ],
   "source": [
    "splitter = StratifiedKFold(\n",
    "    n_splits=5,\n",
    "    shuffle=SHUFFLE,\n",
    "    random_state=RANDOM_STATE\n",
    ")\n",
    "\n",
    "split = list(splitter.split(X=train_df_nod, y=train_df_nod['primary_label']))"
   ]
  },
  {
   "cell_type": "code",
   "execution_count": 17,
   "id": "66c57eb9",
   "metadata": {},
   "outputs": [],
   "source": [
    "split_df = train_df_nod[['primary_label', 'filename']].copy()\n",
    "split_df['fold'] = -1\n",
    "\n",
    "for ii, (train_idx, test_idx) in enumerate(split):\n",
    "    split_df.loc[test_idx, 'fold'] = ii"
   ]
  },
  {
   "cell_type": "code",
   "execution_count": 18,
   "id": "03ffbd45",
   "metadata": {},
   "outputs": [
    {
     "data": {
      "text/plain": [
       "fold\n",
       "1    5709\n",
       "0    5709\n",
       "2    5708\n",
       "3    5708\n",
       "4    5708\n",
       "Name: count, dtype: int64"
      ]
     },
     "execution_count": 18,
     "metadata": {},
     "output_type": "execute_result"
    }
   ],
   "source": [
    "split_df['fold'].value_counts()"
   ]
  },
  {
   "cell_type": "code",
   "execution_count": 19,
   "id": "51e905a2",
   "metadata": {},
   "outputs": [
    {
     "name": "stdout",
     "output_type": "stream",
     "text": [
      "fold_0: {'21038', '528041', '1462711', '42113', '476537', '66016', '1194042', '66531', '66893', '64862'}\n",
      "fold_1: {'21038', '528041', '1462711', '1192948', '42113', '47067', '41778', '868458', '66531', '66893'}\n",
      "fold_2: {'21038', '67082', '528041', '476538', '1139490', '47067', '134933', '41778', '81930', '21116', '42087', '66531', '66578'}\n",
      "fold_3: {'67082', '1139490', '47067', '134933', '41778', '65419', '81930', '476537', '523060', '66016', '21116', '24292', '42087', '64862', '66578'}\n",
      "fold_4: {'67082', '42113', '1139490', '65419', '81930', '476537', '66016', '21116', '1194042', '42087', '24292', '64862', '66578'}\n"
     ]
    }
   ],
   "source": [
    "all_labels = set(split_df['primary_label'].values)\n",
    "for ii in range(5):\n",
    "    fold_labels = set(split_df.loc[split_df['fold'] == ii, 'primary_label'].values)\n",
    "\n",
    "    diff = all_labels - fold_labels\n",
    "    print(f\"fold_{ii}: {diff}\")"
   ]
  },
  {
   "cell_type": "markdown",
   "id": "442fbb80",
   "metadata": {},
   "source": [
    "> ... at least one CV split with each species in train AND val splits."
   ]
  },
  {
   "cell_type": "code",
   "execution_count": 21,
   "id": "5f8797a6",
   "metadata": {},
   "outputs": [
    {
     "data": {
      "text/plain": [
       "primary_label\n",
       "1194042    3\n",
       "1462711    3\n",
       "66893      3\n",
       "21038      2\n",
       "42113      2\n",
       "476537     2\n",
       "528041     2\n",
       "64862      2\n",
       "66016      2\n",
       "66531      2\n",
       "Name: count, dtype: int64"
      ]
     },
     "execution_count": 21,
     "metadata": {},
     "output_type": "execute_result"
    }
   ],
   "source": [
    "# fold_0 for validation\n",
    "val_split = 0\n",
    "\n",
    "fold_labels = set(split_df.loc[split_df['fold'] == val_split, 'primary_label'].values)\n",
    "missed_labels = all_labels - fold_labels\n",
    "\n",
    "split_df.loc[split_df['primary_label'].isin(missed_labels), 'primary_label'].value_counts()"
   ]
  },
  {
   "cell_type": "code",
   "execution_count": 22,
   "id": "3650eae0",
   "metadata": {},
   "outputs": [],
   "source": [
    "split_df.loc[\n",
    "    split_df['primary_label'].isin(missed_labels) & \\\n",
    "    ~split_df['primary_label'].duplicated(),\n",
    "    'fold'\n",
    "] = val_split"
   ]
  },
  {
   "cell_type": "code",
   "execution_count": null,
   "id": "fba83411",
   "metadata": {},
   "outputs": [
    {
     "name": "stdout",
     "output_type": "stream",
     "text": [
      "fold_0: set()\n",
      "fold_1: {'21038', '528041', '1462711', '1192948', '42113', '47067', '41778', '476537', '1194042', '868458', '66531', '66893', '64862'}\n",
      "fold_2: {'21038', '67082', '528041', '1462711', '476538', '1139490', '47067', '134933', '41778', '81930', '66016', '21116', '42087', '66531', '66578'}\n",
      "fold_3: {'67082', '528041', '42113', '1139490', '47067', '134933', '41778', '65419', '81930', '476537', '523060', '66016', '21116', '24292', '42087', '64862', '66578'}\n",
      "fold_4: {'21038', '67082', '42113', '1139490', '65419', '81930', '476537', '66016', '21116', '1194042', '42087', '24292', '66531', '66893', '64862', '66578'}\n"
     ]
    }
   ],
   "source": [
    "# recheck\n",
    "all_labels = set(split_df['primary_label'].values)\n",
    "for ii in range(5):\n",
    "    fold_labels = set(split_df.loc[split_df['fold'] == ii, 'primary_label'].values)\n",
    "\n",
    "    diff = all_labels - fold_labels\n",
    "    print(f\"fold_{ii}: {diff}\")"
   ]
  },
  {
   "cell_type": "code",
   "execution_count": 24,
   "id": "ded922fb",
   "metadata": {},
   "outputs": [],
   "source": [
    "split_df.to_csv('cv_split.csv', index=False)"
   ]
  },
  {
   "cell_type": "code",
   "execution_count": null,
   "id": "ef3d195b",
   "metadata": {},
   "outputs": [],
   "source": []
  }
 ],
 "metadata": {
  "kernelspec": {
   "display_name": ".venv",
   "language": "python",
   "name": "python3"
  },
  "language_info": {
   "codemirror_mode": {
    "name": "ipython",
    "version": 3
   },
   "file_extension": ".py",
   "mimetype": "text/x-python",
   "name": "python",
   "nbconvert_exporter": "python",
   "pygments_lexer": "ipython3",
   "version": "3.12.7"
  }
 },
 "nbformat": 4,
 "nbformat_minor": 5
}
