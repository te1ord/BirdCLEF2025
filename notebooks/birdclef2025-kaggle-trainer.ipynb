{
 "cells": [
  {
   "cell_type": "markdown",
   "metadata": {},
   "source": [
    "## Create kaggle env \n",
    "This env we use for notebooks with no internet access during inference"
   ]
  },
  {
   "cell_type": "code",
   "execution_count": null,
   "metadata": {
    "execution": {
     "iopub.execute_input": "2025-04-21T14:47:32.719842Z",
     "iopub.status.busy": "2025-04-21T14:47:32.719681Z",
     "iopub.status.idle": "2025-04-21T14:47:32.724050Z",
     "shell.execute_reply": "2025-04-21T14:47:32.723409Z",
     "shell.execute_reply.started": "2025-04-21T14:47:32.719826Z"
    },
    "trusted": true
   },
   "outputs": [],
   "source": [
    "# !mkdir kaggle_env\n",
    "# !pip install audiomentations python_stretch numpy-minmax numpy-rms -t kaggle_env/ --no-deps\n",
    "# !pip install lightning==2.5.1 hydra-core==1.3.2 omegaconf==2.3.0 wandb==0.19.9 -t kaggle_env/ --no-deps\n",
    "# !zip -r kaggle_env.zip kaggle_env"
   ]
  },
  {
   "cell_type": "markdown",
   "metadata": {},
   "source": [
    "# Setup"
   ]
  },
  {
   "cell_type": "code",
   "execution_count": null,
   "metadata": {},
   "outputs": [],
   "source": [
    "import sys\n",
    "sys.path.append('/kaggle/input/birdclef2025-code/main_folder/')\n",
    "sys.path.append('/kaggle/input/birdclef2025-env/kaggle_env/')"
   ]
  },
  {
   "cell_type": "code",
   "execution_count": null,
   "metadata": {},
   "outputs": [],
   "source": [
    "from hydra import initialize, compose\n",
    "from omegaconf import OmegaConf"
   ]
  },
  {
   "cell_type": "code",
   "execution_count": null,
   "metadata": {},
   "outputs": [],
   "source": [
    "from kaggle_secrets import UserSecretsClient\n",
    "import wandb\n",
    "\n",
    "user_secrets = UserSecretsClient()\n",
    "secret_value_1 = user_secrets.get_secret(\"wandb_key\")\n",
    "\n",
    "\n",
    "wandb.login(key=secret_value_1)"
   ]
  },
  {
   "cell_type": "markdown",
   "metadata": {},
   "source": [
    "# Config manager"
   ]
  },
  {
   "cell_type": "code",
   "execution_count": 6,
   "metadata": {
    "execution": {
     "iopub.execute_input": "2025-04-22T12:38:26.936628Z",
     "iopub.status.busy": "2025-04-22T12:38:26.936224Z",
     "iopub.status.idle": "2025-04-22T12:38:27.794242Z",
     "shell.execute_reply": "2025-04-22T12:38:27.793499Z",
     "shell.execute_reply.started": "2025-04-22T12:38:26.936608Z"
    },
    "trusted": true
   },
   "outputs": [
    {
     "name": "stderr",
     "output_type": "stream",
     "text": [
      "/tmp/ipykernel_31/3923953896.py:6: UserWarning: \n",
      "The version_base parameter is not specified.\n",
      "Please specify a compatability version level, or None.\n",
      "Will assume defaults for version 1.1\n",
      "  with initialize(config_path=\"../input/birdclef2025-code/main_folder/src/config\"):\n"
     ]
    }
   ],
   "source": [
    "CFG_PATH = \"../input/birdclef2025-code/main_folder/src/config\"\n",
    "\n",
    "with initialize(config_path=CFG_PATH): \n",
    "    cfg = compose(config_name=\"config\")  \n",
    "\n",
    "# print(OmegaConf.to_container(cfg, resolve=False))"
   ]
  },
  {
   "cell_type": "code",
   "execution_count": 7,
   "metadata": {
    "execution": {
     "iopub.execute_input": "2025-04-22T12:38:27.795307Z",
     "iopub.status.busy": "2025-04-22T12:38:27.795060Z",
     "iopub.status.idle": "2025-04-22T12:38:27.803243Z",
     "shell.execute_reply": "2025-04-22T12:38:27.802514Z",
     "shell.execute_reply.started": "2025-04-22T12:38:27.795280Z"
    },
    "trusted": true
   },
   "outputs": [
    {
     "data": {
      "text/plain": [
       "{'train_csv': 'data/cv_split.csv', 'audio_dir': 'data/birdclef2025/train_audio'}"
      ]
     },
     "execution_count": 7,
     "metadata": {},
     "output_type": "execute_result"
    }
   ],
   "source": [
    "cfg['data']['paths']"
   ]
  },
  {
   "cell_type": "code",
   "execution_count": 8,
   "metadata": {
    "execution": {
     "iopub.execute_input": "2025-04-22T12:38:27.804690Z",
     "iopub.status.busy": "2025-04-22T12:38:27.804013Z",
     "iopub.status.idle": "2025-04-22T12:38:27.820755Z",
     "shell.execute_reply": "2025-04-22T12:38:27.820060Z",
     "shell.execute_reply.started": "2025-04-22T12:38:27.804665Z"
    },
    "trusted": true
   },
   "outputs": [],
   "source": [
    "# paths\n",
    "cfg['data']['paths']['train_csv'] = \"/kaggle/input/birdclef2025-cv-split/cv_split.csv\"\n",
    "cfg['data']['paths']['audio_dir'] = \"/kaggle/input/birdclef-2025/train_audio\""
   ]
  },
  {
   "cell_type": "code",
   "execution_count": 9,
   "metadata": {
    "execution": {
     "iopub.execute_input": "2025-04-22T12:38:27.821667Z",
     "iopub.status.busy": "2025-04-22T12:38:27.821408Z",
     "iopub.status.idle": "2025-04-22T12:38:27.835342Z",
     "shell.execute_reply": "2025-04-22T12:38:27.834667Z",
     "shell.execute_reply.started": "2025-04-22T12:38:27.821646Z"
    },
    "trusted": true
   },
   "outputs": [],
   "source": [
    "cfg['training']['trainer']['n_epochs'] = 10"
   ]
  },
  {
   "cell_type": "code",
   "execution_count": 13,
   "metadata": {
    "execution": {
     "iopub.execute_input": "2025-04-22T12:38:57.736764Z",
     "iopub.status.busy": "2025-04-22T12:38:57.736480Z",
     "iopub.status.idle": "2025-04-22T12:38:57.741477Z",
     "shell.execute_reply": "2025-04-22T12:38:57.740781Z",
     "shell.execute_reply.started": "2025-04-22T12:38:57.736744Z"
    },
    "trusted": true
   },
   "outputs": [
    {
     "data": {
      "text/plain": [
       "'effnet-b0-hard-ce'"
      ]
     },
     "execution_count": 13,
     "metadata": {},
     "output_type": "execute_result"
    }
   ],
   "source": [
    "cfg['experiment_name'] = \"effnet-b0-hard-ce\""
   ]
  },
  {
   "cell_type": "markdown",
   "metadata": {},
   "source": [
    "# Train"
   ]
  },
  {
   "cell_type": "code",
   "execution_count": 15,
   "metadata": {
    "execution": {
     "iopub.execute_input": "2025-04-22T13:13:43.087567Z",
     "iopub.status.busy": "2025-04-22T13:13:43.086812Z",
     "iopub.status.idle": "2025-04-22T13:13:43.091966Z",
     "shell.execute_reply": "2025-04-22T13:13:43.091175Z",
     "shell.execute_reply.started": "2025-04-22T13:13:43.087538Z"
    },
    "trusted": true
   },
   "outputs": [],
   "source": [
    "from src.scripts.train import main\n",
    "main(cfg)"
   ]
  },
  {
   "cell_type": "code",
   "execution_count": null,
   "metadata": {
    "trusted": true
   },
   "outputs": [],
   "source": []
  },
  {
   "cell_type": "code",
   "execution_count": null,
   "metadata": {
    "trusted": true
   },
   "outputs": [],
   "source": []
  }
 ],
 "metadata": {
  "kaggle": {
   "accelerator": "gpu",
   "dataSources": [
    {
     "databundleVersionId": 11361821,
     "sourceId": 91844,
     "sourceType": "competition"
    },
    {
     "databundleVersionId": 11964620,
     "datasetId": 7150925,
     "sourceId": 11514589,
     "sourceType": "datasetVersion"
    },
    {
     "databundleVersionId": 11842747,
     "datasetId": 7145286,
     "sourceId": 11406881,
     "sourceType": "datasetVersion"
    },
    {
     "databundleVersionId": 11915649,
     "datasetId": 7189316,
     "sourceId": 11471770,
     "sourceType": "datasetVersion"
    }
   ],
   "dockerImageVersionId": 31011,
   "isGpuEnabled": true,
   "isInternetEnabled": true,
   "language": "python",
   "sourceType": "notebook"
  },
  "kernelspec": {
   "display_name": "Python 3",
   "language": "python",
   "name": "python3"
  },
  "language_info": {
   "codemirror_mode": {
    "name": "ipython",
    "version": 3
   },
   "file_extension": ".py",
   "mimetype": "text/x-python",
   "name": "python",
   "nbconvert_exporter": "python",
   "pygments_lexer": "ipython3",
   "version": "3.11.11"
  }
 },
 "nbformat": 4,
 "nbformat_minor": 4
}
