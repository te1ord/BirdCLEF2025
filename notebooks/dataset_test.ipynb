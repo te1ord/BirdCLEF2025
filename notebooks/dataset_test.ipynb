{
 "cells": [
  {
   "cell_type": "code",
   "execution_count": 1,
   "metadata": {
    "execution": {
     "iopub.execute_input": "2025-04-12T17:03:47.569417Z",
     "iopub.status.busy": "2025-04-12T17:03:47.568987Z",
     "iopub.status.idle": "2025-04-12T17:03:54.164597Z",
     "shell.execute_reply": "2025-04-12T17:03:54.163683Z",
     "shell.execute_reply.started": "2025-04-12T17:03:47.569380Z"
    },
    "trusted": true
   },
   "outputs": [],
   "source": [
    "import pandas as pd\n",
    "import librosa\n",
    "import torchaudio\n",
    "\n",
    "\n",
    "from tqdm import tqdm\n",
    "tqdm.pandas()"
   ]
  },
  {
   "cell_type": "code",
   "execution_count": 2,
   "metadata": {
    "execution": {
     "iopub.execute_input": "2025-04-12T17:03:54.166682Z",
     "iopub.status.busy": "2025-04-12T17:03:54.166198Z",
     "iopub.status.idle": "2025-04-12T17:03:54.171321Z",
     "shell.execute_reply": "2025-04-12T17:03:54.170143Z",
     "shell.execute_reply.started": "2025-04-12T17:03:54.166646Z"
    },
    "trusted": true
   },
   "outputs": [],
   "source": [
    "DATA_PATH = \"../data/birdclef2025\""
   ]
  },
  {
   "cell_type": "code",
   "execution_count": 3,
   "metadata": {
    "execution": {
     "iopub.execute_input": "2025-04-12T17:03:54.172600Z",
     "iopub.status.busy": "2025-04-12T17:03:54.172355Z",
     "iopub.status.idle": "2025-04-12T17:03:54.418927Z",
     "shell.execute_reply": "2025-04-12T17:03:54.418130Z",
     "shell.execute_reply.started": "2025-04-12T17:03:54.172579Z"
    },
    "trusted": true
   },
   "outputs": [],
   "source": [
    "train_df = pd.read_csv(DATA_PATH + \"/train.csv\")"
   ]
  },
  {
   "cell_type": "code",
   "execution_count": 4,
   "metadata": {
    "execution": {
     "iopub.execute_input": "2025-04-12T17:03:54.421371Z",
     "iopub.status.busy": "2025-04-12T17:03:54.421084Z",
     "iopub.status.idle": "2025-04-12T17:03:54.453176Z",
     "shell.execute_reply": "2025-04-12T17:03:54.452367Z",
     "shell.execute_reply.started": "2025-04-12T17:03:54.421348Z"
    },
    "trusted": true
   },
   "outputs": [
    {
     "data": {
      "text/html": [
       "<div>\n",
       "<style scoped>\n",
       "    .dataframe tbody tr th:only-of-type {\n",
       "        vertical-align: middle;\n",
       "    }\n",
       "\n",
       "    .dataframe tbody tr th {\n",
       "        vertical-align: top;\n",
       "    }\n",
       "\n",
       "    .dataframe thead th {\n",
       "        text-align: right;\n",
       "    }\n",
       "</style>\n",
       "<table border=\"1\" class=\"dataframe\">\n",
       "  <thead>\n",
       "    <tr style=\"text-align: right;\">\n",
       "      <th></th>\n",
       "      <th>primary_label</th>\n",
       "      <th>secondary_labels</th>\n",
       "      <th>type</th>\n",
       "      <th>filename</th>\n",
       "      <th>collection</th>\n",
       "      <th>rating</th>\n",
       "      <th>url</th>\n",
       "      <th>latitude</th>\n",
       "      <th>longitude</th>\n",
       "      <th>scientific_name</th>\n",
       "      <th>common_name</th>\n",
       "      <th>author</th>\n",
       "      <th>license</th>\n",
       "    </tr>\n",
       "  </thead>\n",
       "  <tbody>\n",
       "    <tr>\n",
       "      <th>0</th>\n",
       "      <td>1139490</td>\n",
       "      <td>['']</td>\n",
       "      <td>['']</td>\n",
       "      <td>1139490/CSA36385.ogg</td>\n",
       "      <td>CSA</td>\n",
       "      <td>0.0</td>\n",
       "      <td>http://colecciones.humboldt.org.co/rec/sonidos...</td>\n",
       "      <td>7.3206</td>\n",
       "      <td>-73.7128</td>\n",
       "      <td>Ragoniella pulchella</td>\n",
       "      <td>Ragoniella pulchella</td>\n",
       "      <td>Fabio A. Sarria-S</td>\n",
       "      <td>cc-by-nc-sa 4.0</td>\n",
       "    </tr>\n",
       "    <tr>\n",
       "      <th>1</th>\n",
       "      <td>1139490</td>\n",
       "      <td>['']</td>\n",
       "      <td>['']</td>\n",
       "      <td>1139490/CSA36389.ogg</td>\n",
       "      <td>CSA</td>\n",
       "      <td>0.0</td>\n",
       "      <td>http://colecciones.humboldt.org.co/rec/sonidos...</td>\n",
       "      <td>7.3206</td>\n",
       "      <td>-73.7128</td>\n",
       "      <td>Ragoniella pulchella</td>\n",
       "      <td>Ragoniella pulchella</td>\n",
       "      <td>Fabio A. Sarria-S</td>\n",
       "      <td>cc-by-nc-sa 4.0</td>\n",
       "    </tr>\n",
       "    <tr>\n",
       "      <th>2</th>\n",
       "      <td>1192948</td>\n",
       "      <td>['']</td>\n",
       "      <td>['']</td>\n",
       "      <td>1192948/CSA36358.ogg</td>\n",
       "      <td>CSA</td>\n",
       "      <td>0.0</td>\n",
       "      <td>http://colecciones.humboldt.org.co/rec/sonidos...</td>\n",
       "      <td>7.3791</td>\n",
       "      <td>-73.7313</td>\n",
       "      <td>Oxyprora surinamensis</td>\n",
       "      <td>Oxyprora surinamensis</td>\n",
       "      <td>Fabio A. Sarria-S</td>\n",
       "      <td>cc-by-nc-sa 4.0</td>\n",
       "    </tr>\n",
       "    <tr>\n",
       "      <th>3</th>\n",
       "      <td>1192948</td>\n",
       "      <td>['']</td>\n",
       "      <td>['']</td>\n",
       "      <td>1192948/CSA36366.ogg</td>\n",
       "      <td>CSA</td>\n",
       "      <td>0.0</td>\n",
       "      <td>http://colecciones.humboldt.org.co/rec/sonidos...</td>\n",
       "      <td>7.2800</td>\n",
       "      <td>-73.8582</td>\n",
       "      <td>Oxyprora surinamensis</td>\n",
       "      <td>Oxyprora surinamensis</td>\n",
       "      <td>Fabio A. Sarria-S</td>\n",
       "      <td>cc-by-nc-sa 4.0</td>\n",
       "    </tr>\n",
       "    <tr>\n",
       "      <th>4</th>\n",
       "      <td>1192948</td>\n",
       "      <td>['']</td>\n",
       "      <td>['']</td>\n",
       "      <td>1192948/CSA36373.ogg</td>\n",
       "      <td>CSA</td>\n",
       "      <td>0.0</td>\n",
       "      <td>http://colecciones.humboldt.org.co/rec/sonidos...</td>\n",
       "      <td>7.3791</td>\n",
       "      <td>-73.7313</td>\n",
       "      <td>Oxyprora surinamensis</td>\n",
       "      <td>Oxyprora surinamensis</td>\n",
       "      <td>Fabio A. Sarria-S</td>\n",
       "      <td>cc-by-nc-sa 4.0</td>\n",
       "    </tr>\n",
       "  </tbody>\n",
       "</table>\n",
       "</div>"
      ],
      "text/plain": [
       "  primary_label secondary_labels  type              filename collection  \\\n",
       "0       1139490             ['']  ['']  1139490/CSA36385.ogg        CSA   \n",
       "1       1139490             ['']  ['']  1139490/CSA36389.ogg        CSA   \n",
       "2       1192948             ['']  ['']  1192948/CSA36358.ogg        CSA   \n",
       "3       1192948             ['']  ['']  1192948/CSA36366.ogg        CSA   \n",
       "4       1192948             ['']  ['']  1192948/CSA36373.ogg        CSA   \n",
       "\n",
       "   rating                                                url  latitude  \\\n",
       "0     0.0  http://colecciones.humboldt.org.co/rec/sonidos...    7.3206   \n",
       "1     0.0  http://colecciones.humboldt.org.co/rec/sonidos...    7.3206   \n",
       "2     0.0  http://colecciones.humboldt.org.co/rec/sonidos...    7.3791   \n",
       "3     0.0  http://colecciones.humboldt.org.co/rec/sonidos...    7.2800   \n",
       "4     0.0  http://colecciones.humboldt.org.co/rec/sonidos...    7.3791   \n",
       "\n",
       "   longitude        scientific_name            common_name             author  \\\n",
       "0   -73.7128   Ragoniella pulchella   Ragoniella pulchella  Fabio A. Sarria-S   \n",
       "1   -73.7128   Ragoniella pulchella   Ragoniella pulchella  Fabio A. Sarria-S   \n",
       "2   -73.7313  Oxyprora surinamensis  Oxyprora surinamensis  Fabio A. Sarria-S   \n",
       "3   -73.8582  Oxyprora surinamensis  Oxyprora surinamensis  Fabio A. Sarria-S   \n",
       "4   -73.7313  Oxyprora surinamensis  Oxyprora surinamensis  Fabio A. Sarria-S   \n",
       "\n",
       "           license  \n",
       "0  cc-by-nc-sa 4.0  \n",
       "1  cc-by-nc-sa 4.0  \n",
       "2  cc-by-nc-sa 4.0  \n",
       "3  cc-by-nc-sa 4.0  \n",
       "4  cc-by-nc-sa 4.0  "
      ]
     },
     "execution_count": 4,
     "metadata": {},
     "output_type": "execute_result"
    }
   ],
   "source": [
    "train_df.head()"
   ]
  },
  {
   "cell_type": "code",
   "execution_count": 5,
   "metadata": {},
   "outputs": [],
   "source": [
    "train_df['filepath'] = train_df['filename'].apply(lambda x: f\"{DATA_PATH}/train_audio/{x}\")"
   ]
  },
  {
   "cell_type": "code",
   "execution_count": 6,
   "metadata": {},
   "outputs": [],
   "source": [
    "from src.datasets.audio_dataset import AudioDataset\n",
    "\n",
    "dataset = AudioDataset(\n",
    "    input_df=train_df,\n",
    "    filenpath_col='filepath',\n",
    "    target_col='primary_label',\n",
    "    mixup_audio=True,\n",
    "    mixup_params={\n",
    "        'prob': 1,\n",
    "        'alpha': 0.5,\n",
    "        'hard_target': False\n",
    "    }\n",
    ")"
   ]
  },
  {
   "cell_type": "code",
   "execution_count": 7,
   "metadata": {},
   "outputs": [
    {
     "data": {
      "text/plain": [
       "(tensor([ 0.0991,  0.0845,  0.0829,  ..., -0.0470, -0.0754, -0.0943]),\n",
       " tensor([0.5000, 0.0000, 0.0000, 0.0000, 0.0000, 0.0000, 0.0000, 0.0000, 0.0000,\n",
       "         0.0000, 0.0000, 0.0000, 0.0000, 0.0000, 0.0000, 0.0000, 0.0000, 0.0000,\n",
       "         0.0000, 0.0000, 0.0000, 0.0000, 0.0000, 0.0000, 0.0000, 0.0000, 0.0000,\n",
       "         0.0000, 0.0000, 0.0000, 0.0000, 0.0000, 0.0000, 0.0000, 0.0000, 0.0000,\n",
       "         0.0000, 0.0000, 0.0000, 0.0000, 0.0000, 0.0000, 0.0000, 0.0000, 0.0000,\n",
       "         0.0000, 0.0000, 0.0000, 0.0000, 0.0000, 0.0000, 0.0000, 0.0000, 0.0000,\n",
       "         0.0000, 0.0000, 0.0000, 0.0000, 0.0000, 0.0000, 0.0000, 0.0000, 0.0000,\n",
       "         0.0000, 0.0000, 0.0000, 0.0000, 0.0000, 0.0000, 0.0000, 0.0000, 0.0000,\n",
       "         0.0000, 0.0000, 0.0000, 0.0000, 0.0000, 0.0000, 0.0000, 0.0000, 0.0000,\n",
       "         0.0000, 0.0000, 0.0000, 0.0000, 0.0000, 0.0000, 0.0000, 0.0000, 0.0000,\n",
       "         0.0000, 0.0000, 0.0000, 0.0000, 0.0000, 0.0000, 0.0000, 0.0000, 0.0000,\n",
       "         0.0000, 0.0000, 0.0000, 0.0000, 0.0000, 0.0000, 0.0000, 0.0000, 0.0000,\n",
       "         0.0000, 0.0000, 0.0000, 0.0000, 0.0000, 0.0000, 0.0000, 0.0000, 0.0000,\n",
       "         0.0000, 0.0000, 0.0000, 0.0000, 0.0000, 0.0000, 0.0000, 0.0000, 0.0000,\n",
       "         0.0000, 0.0000, 0.0000, 0.0000, 0.0000, 0.0000, 0.0000, 0.0000, 0.0000,\n",
       "         0.0000, 0.0000, 0.0000, 0.0000, 0.0000, 0.0000, 0.0000, 0.0000, 0.0000,\n",
       "         0.0000, 0.0000, 0.0000, 0.0000, 0.0000, 0.0000, 0.0000, 0.0000, 0.0000,\n",
       "         0.0000, 0.0000, 0.5000, 0.0000, 0.0000, 0.0000, 0.0000, 0.0000, 0.0000,\n",
       "         0.0000, 0.0000, 0.0000, 0.0000, 0.0000, 0.0000, 0.0000, 0.0000, 0.0000,\n",
       "         0.0000, 0.0000, 0.0000, 0.0000, 0.0000, 0.0000, 0.0000, 0.0000, 0.0000,\n",
       "         0.0000, 0.0000, 0.0000, 0.0000, 0.0000, 0.0000, 0.0000, 0.0000, 0.0000,\n",
       "         0.0000, 0.0000, 0.0000, 0.0000, 0.0000, 0.0000, 0.0000, 0.0000, 0.0000,\n",
       "         0.0000, 0.0000, 0.0000, 0.0000, 0.0000, 0.0000, 0.0000, 0.0000]))"
      ]
     },
     "execution_count": 7,
     "metadata": {},
     "output_type": "execute_result"
    }
   ],
   "source": [
    "sample = dataset[1]\n",
    "\n",
    "sample"
   ]
  },
  {
   "cell_type": "code",
   "execution_count": 8,
   "metadata": {},
   "outputs": [
    {
     "data": {
      "text/plain": [
       "tensor(1.)"
      ]
     },
     "execution_count": 8,
     "metadata": {},
     "output_type": "execute_result"
    }
   ],
   "source": [
    "sample[1].sum()"
   ]
  },
  {
   "cell_type": "code",
   "execution_count": 9,
   "metadata": {},
   "outputs": [
    {
     "data": {
      "text/plain": [
       "torch.Size([206])"
      ]
     },
     "execution_count": 9,
     "metadata": {},
     "output_type": "execute_result"
    }
   ],
   "source": [
    "sample[1].shape"
   ]
  },
  {
   "cell_type": "code",
   "execution_count": null,
   "metadata": {},
   "outputs": [],
   "source": []
  }
 ],
 "metadata": {
  "kaggle": {
   "accelerator": "none",
   "dataSources": [
    {
     "databundleVersionId": 11361821,
     "sourceId": 91844,
     "sourceType": "competition"
    }
   ],
   "dockerImageVersionId": 31012,
   "isGpuEnabled": false,
   "isInternetEnabled": true,
   "language": "python",
   "sourceType": "notebook"
  },
  "kernelspec": {
   "display_name": ".venv",
   "language": "python",
   "name": "python3"
  },
  "language_info": {
   "codemirror_mode": {
    "name": "ipython",
    "version": 3
   },
   "file_extension": ".py",
   "mimetype": "text/x-python",
   "name": "python",
   "nbconvert_exporter": "python",
   "pygments_lexer": "ipython3",
   "version": "3.12.7"
  }
 },
 "nbformat": 4,
 "nbformat_minor": 4
}
